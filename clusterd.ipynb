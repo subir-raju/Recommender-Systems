{
 "cells": [
  {
   "cell_type": "code",
   "execution_count": 35,
   "id": "25e5d73b",
   "metadata": {},
   "outputs": [
    {
     "name": "stdout",
     "output_type": "stream",
     "text": [
      "Links Dataset:\n",
      "   movieId  imdbId   tmdbId\n",
      "0        1  114709    862.0\n",
      "1        2  113497   8844.0\n",
      "2        3  113228  15602.0\n",
      "3        4  114885  31357.0\n",
      "4        5  113041  11862.0\n",
      "\n",
      "Movies Dataset:\n",
      "   movieId                               title  \\\n",
      "0        1                    Toy Story (1995)   \n",
      "1        2                      Jumanji (1995)   \n",
      "2        3             Grumpier Old Men (1995)   \n",
      "3        4            Waiting to Exhale (1995)   \n",
      "4        5  Father of the Bride Part II (1995)   \n",
      "\n",
      "                                        genres  \n",
      "0  Adventure|Animation|Children|Comedy|Fantasy  \n",
      "1                   Adventure|Children|Fantasy  \n",
      "2                               Comedy|Romance  \n",
      "3                         Comedy|Drama|Romance  \n",
      "4                                       Comedy  \n",
      "\n",
      "Ratings Dataset:\n",
      "   userId  movieId  rating  timestamp\n",
      "0       1        1     4.0  964982703\n",
      "1       1        3     4.0  964981247\n",
      "2       1        6     4.0  964982224\n",
      "3       1       47     5.0  964983815\n",
      "4       1       50     5.0  964982931\n",
      "\n",
      "Tags Dataset:\n",
      "   userId  movieId              tag   timestamp\n",
      "0       2    60756            funny  1445714994\n",
      "1       2    60756  Highly quotable  1445714996\n",
      "2       2    60756     will ferrell  1445714992\n",
      "3       2    89774     Boxing story  1445715207\n",
      "4       2    89774              MMA  1445715200\n",
      "\n",
      "Total number of ratings: 100836\n"
     ]
    }
   ],
   "source": [
    "#a\n",
    "import pandas as pd\n",
    "\n",
    "# Load the datasets\n",
    "links = pd.read_csv('links.csv', sep=',')\n",
    "movies = pd.read_csv('movies.csv', sep=',')\n",
    "ratings = pd.read_csv('ratings.csv', sep=',')\n",
    "tags = pd.read_csv('tags.csv', sep=',')\n",
    "\n",
    "# Display the first few rows of each dataset\n",
    "print(\"Links Dataset:\")\n",
    "print(links.head())\n",
    "\n",
    "print(\"\\nMovies Dataset:\")\n",
    "print(movies.head())\n",
    "\n",
    "print(\"\\nRatings Dataset:\")\n",
    "print(ratings.head())\n",
    "\n",
    "print(\"\\nTags Dataset:\")\n",
    "print(tags.head())\n",
    "\n",
    "# Get the count of ratings\n",
    "num_ratings = len(ratings)\n",
    "print(f'\\nTotal number of ratings: {num_ratings}')\n"
   ]
  },
  {
   "cell_type": "code",
   "execution_count": 9,
   "id": "48cae083",
   "metadata": {},
   "outputs": [
    {
     "name": "stdout",
     "output_type": "stream",
     "text": [
      "Index(['userId,movieId,rating,timestamp'], dtype='object')\n"
     ]
    }
   ],
   "source": [
    "print(ratings.columns)\n"
   ]
  },
  {
   "cell_type": "code",
   "execution_count": 36,
   "id": "fcbcdd0b",
   "metadata": {},
   "outputs": [],
   "source": [
    "from sklearn.metrics.pairwise import cosine_similarity\n",
    "ratings['rating'] = ratings['rating'].replace(-1, pd.NA)\n",
    "ratings = ratings.drop_duplicates(['userId', 'movieId'])\n",
    "user_item_matrix = ratings.pivot(index='userId', columns='movieId', values='rating').fillna(0)\n",
    "user_similarity = cosine_similarity(user_item_matrix.fillna(0))\n",
    "\n",
    "def user_based_recommendations(userId, user_item_matrix, user_similarity, n=5):\n",
    "    # Get the similarity scores for the target user\n",
    "    user_scores = user_similarity[userId - 1]\n",
    "    # Sort users by similarity in descending order\n",
    "    similar_users = sorted(enumerate(user_scores), key=lambda x: x[1], reverse=True)\n",
    "    \n",
    "    # Initialize a list to store recommended anime\n",
    "    recommended_movie = []\n",
    "    \n",
    "    for user, score in similar_users[1:]:  # Exclude the target user\n",
    "        # Get the anime the similar user has rated positively\n",
    "        rated_movie = user_item_matrix.loc[user_item_matrix.index[user - 1]]\n",
    "        positively_rated_movie = rated_movie[rated_movie >= 6].index\n",
    "        \n",
    "        # Exclude anime the target user has already rated\n",
    "        target_user_rated_movie = user_item_matrix.loc[userId].dropna().index\n",
    "        recommended_movie.extend(set(positively_rated_movie) - set(target_user_rated_movie))\n",
    "        \n",
    "        # Limit the number of recommendations\n",
    "        if len(recommended_movie) >= n:\n",
    "            break\n",
    "\n",
    "    return recommended_movie[:n]\n"
   ]
  },
  {
   "cell_type": "code",
   "execution_count": 25,
   "id": "863c25f5",
   "metadata": {},
   "outputs": [
    {
     "name": "stdout",
     "output_type": "stream",
     "text": [
      "[]\n"
     ]
    }
   ],
   "source": [
    "# Choose a user ID for testing\n",
    "userId = 5  # Replace with the user ID you want to test\n",
    "\n",
    "# Test user-based recommendations\n",
    "user_recommendations = user_based_recommendations(userId, user_item_matrix, user_similarity, n=5)\n",
    "print(user_recommendations)\n"
   ]
  },
  {
   "cell_type": "code",
   "execution_count": 19,
   "id": "ee061595",
   "metadata": {},
   "outputs": [
    {
     "name": "stdout",
     "output_type": "stream",
     "text": [
      "User-Based Recommendations for User 55:\n"
     ]
    }
   ],
   "source": [
    "# Display the recommendations\n",
    "print(f\"User-Based Recommendations for User {userId}:\")\n",
    "for movieId in user_recommendations:\n",
    "    movie_name = movies.loc[movies['movieId'] == movieId, 'title'].values[0]\n",
    "    print(f\"- {movie_name}\")"
   ]
  },
  {
   "cell_type": "code",
   "execution_count": null,
   "id": "6397ca03",
   "metadata": {},
   "outputs": [],
   "source": [
    "from scipy.stats import pearsonr\n",
    "\n",
    "# Step 1: Calculate User Similarities using Pearson correlation\n",
    "def pearson_similarity(ratings):\n",
    "    user_item_matrix = ratings.pivot(index='userId', columns='movieId', values='rating').fillna(0)\n",
    "    similarity_matrix = user_item_matrix.corr(method='pearson', min_periods=1)\n",
    "    np.fill_diagonal(similarity_matrix.values, 0)  # Set self-correlations to 0\n",
    "    return similarity_matrix\n",
    "\n",
    "user_similarity = pearson_similarity(ratings)\n",
    "\n",
    "# Step 2: Predict Movie Scores\n",
    "def predict_movie_score(user_id, movie_id):\n",
    "    rated_movie = user_item_matrix.loc[user_id]\n",
    "    similar_users = user_similarity[user_id].dropna().index\n",
    "    similar_users = similar_users[rated_movie[similar_users] != 0]\n",
    "\n",
    "    if len(similar_users) == 0:\n",
    "        return np.nan\n",
    "\n",
    "    weighted_sum = 0\n",
    "    similarity_sum = 0\n",
    "\n",
    "    for user in similar_users:\n",
    "        similarity = user_similarity.loc[user_id, user]\n",
    "        rating = user_item_matrix.loc[user, movie_id]\n",
    "        weighted_sum += similarity * rating\n",
    "        similarity_sum += abs(similarity)\n",
    "\n",
    "    if similarity_sum == 0:\n",
    "        return np.nan\n",
    "\n",
    "    predicted_score = weighted_sum / similarity_sum\n",
    "    return predicted_score\n",
    "\n",
    "# Example: Predict the score for user 1 and movie 1\n",
    "# Example: Predict the score for user 1 and movie 1\n",
    "user_id = 1\n",
    "movie_id = 1\n",
    "predicted_score = predict_movie_score(user_id, movie_id)\n",
    "\n",
    "if not np.isnan(predicted_score):\n",
    "    print(f\"Predicted score for user {user_id} and movie {movie_id}: {predicted_score}\")\n",
    "else:\n",
    "    print(f\"No prediction available for user {user_id} and movie {movie_id}.\")\n"
   ]
  },
  {
   "cell_type": "code",
   "execution_count": 3,
   "id": "8c8f9220",
   "metadata": {},
   "outputs": [
    {
     "name": "stdout",
     "output_type": "stream",
     "text": [
      "Recommended movies for user 5:\n",
      "set()\n"
     ]
    }
   ],
   "source": [
    "import pandas as pd\n",
    "from scipy.stats import pearsonr\n",
    "\n",
    "# Load the ratings dataset\n",
    "ratings = pd.read_csv('ratings.csv')\n",
    "\n",
    "# Create a user-item matrix\n",
    "user_item_matrix = ratings.pivot(index='userId', columns='movieId', values='rating').fillna(0)\n",
    "\n",
    "# Define a function to calculate Pearson correlation between two users\n",
    "def pearson_correlation(user1, user2):\n",
    "    common_movies = user_item_matrix.loc[user1].index.intersection(user_item_matrix.loc[user2].index)\n",
    "    if len(common_movies) < 2:\n",
    "        return 0\n",
    "    user1_ratings = user_item_matrix.loc[user1][common_movies]\n",
    "    user2_ratings = user_item_matrix.loc[user2][common_movies]\n",
    "    correlation, _ = pearsonr(user1_ratings, user2_ratings)\n",
    "    return correlation\n",
    "\n",
    "# Define a function to get similar users for a given user\n",
    "def get_similar_users(target_user):\n",
    "    similarities = {}\n",
    "    for user in user_item_matrix.index:\n",
    "        if user != target_user:\n",
    "            similarity = pearson_correlation(target_user, user)\n",
    "            similarities[user] = similarity\n",
    "    return similarities\n",
    "\n",
    "# Define a function to get top N similar users for a given user\n",
    "def get_top_similar_users(target_user, n=5):\n",
    "    similarities = get_similar_users(target_user)\n",
    "    top_users = sorted(similarities.items(), key=lambda x: x[1], reverse=True)[:n]\n",
    "    return top_users\n",
    "\n",
    "# Define a function to make recommendations for a user\n",
    "def user_based_recommendations(target_user, n=5):\n",
    "    top_users = get_top_similar_users(target_user)\n",
    "    target_user_movies = user_item_matrix.loc[target_user].index\n",
    "    recommended_movies = set()\n",
    "    for user, similarity in top_users:\n",
    "        similar_user_movies = user_item_matrix.loc[user].index\n",
    "        new_movies = set(similar_user_movies) - set(target_user_movies)\n",
    "        recommended_movies.update(new_movies)\n",
    "        if len(recommended_movies) >= n:\n",
    "            break\n",
    "    return recommended_movies\n",
    "\n",
    "# Example: Make recommendations for user 1\n",
    "target_user = 5\n",
    "recommended_movies = user_based_recommendations(target_user, n=5)\n",
    "print(f\"Recommended movies for user {target_user}:\")\n",
    "print(recommended_movies)\n"
   ]
  },
  {
   "cell_type": "code",
   "execution_count": null,
   "id": "b44e8530",
   "metadata": {},
   "outputs": [],
   "source": []
  },
  {
   "cell_type": "code",
   "execution_count": 8,
   "id": "36a501b4",
   "metadata": {},
   "outputs": [],
   "source": [
    "##########\n",
    "import pandas as pd\n",
    "from scipy.stats import pearsonr\n",
    "\n",
    "# Load the ratings dataset\n",
    "ratings = pd.read_csv('ratings.csv')\n",
    "\n",
    "# Create a user-item matrix\n",
    "user_item_matrix = ratings.pivot(index='userId', columns='movieId', values='rating').fillna(0)"
   ]
  },
  {
   "cell_type": "code",
   "execution_count": 58,
   "id": "5d516141",
   "metadata": {},
   "outputs": [
    {
     "name": "stdout",
     "output_type": "stream",
     "text": [
      "-0.0025940733283772387\n"
     ]
    }
   ],
   "source": [
    "# Define a function to calculate Pearson correlation between two users\n",
    "user_similarity = None\n",
    "def pearson_correlation(user1, user2):\n",
    "    common_movies = user_item_matrix.loc[user1].index.intersection(user_item_matrix.loc[user2].index)\n",
    "    if len(common_movies) < 2:\n",
    "        return 0\n",
    "    user1_ratings = user_item_matrix.loc[user1][common_movies]\n",
    "    user2_ratings = user_item_matrix.loc[user2][common_movies]\n",
    "    correlation, _ = pearsonr(user1_ratings, user2_ratings)\n",
    "    user_similarity = correlation\n",
    "    return correlation\n",
    "user_similarity = pearson_correlation(2,3)\n",
    "print(user_similarity)"
   ]
  },
  {
   "cell_type": "code",
   "execution_count": 62,
   "id": "dc8fafc3",
   "metadata": {},
   "outputs": [],
   "source": [
    "# Define a function to get similar users for a given user\n",
    "def get_similar_users(target_user):\n",
    "    similarities = {}\n",
    "    for user in user_item_matrix.index:\n",
    "        if user != target_user:\n",
    "            similarity = pearson_correlation(target_user, user)\n",
    "            similarities[user] = similarity\n",
    "    return similarities"
   ]
  },
  {
   "cell_type": "code",
   "execution_count": 63,
   "id": "8ff3e9cd",
   "metadata": {},
   "outputs": [
    {
     "name": "stdout",
     "output_type": "stream",
     "text": [
      "[(313, 0.0708816637198), (532, 0.06777586588571832), (377, 0.06673315321298243), (527, 0.06518229803961956), (312, 0.06154047447052821)]\n"
     ]
    }
   ],
   "source": [
    "# Define a function to get top N similar users for a given user\n",
    "def get_top_similar_users(target_user, n=5):\n",
    "    similarities = get_similar_users(target_user)\n",
    "    top_users = sorted(similarities.items(), key=lambda x: x[1], reverse=True)[:n]\n",
    "    return top_users\n",
    "\n",
    "print(get_top_similar_users(3,5))"
   ]
  },
  {
   "cell_type": "code",
   "execution_count": 60,
   "id": "43fd6fd4",
   "metadata": {},
   "outputs": [
    {
     "name": "stdout",
     "output_type": "stream",
     "text": [
      "Predicted rating for user 88 on movie 88: 0.03153666282883257\n"
     ]
    }
   ],
   "source": [
    "# Define a function to make predictions using the provided formula on lecture\n",
    "def predict_rating(target_user, item):\n",
    "    target_user_movies = user_item_matrix.loc[target_user].index\n",
    "    common_users = user_item_matrix.loc[:, item].dropna().index\n",
    "    similarities = {user: pearson_correlation(target_user, user) for user in common_users}\n",
    "    weighted_sum = 0\n",
    "    sum_of_similarities = 0\n",
    "\n",
    "    for user, similarity in similarities.items():\n",
    "        rb = user_item_matrix.loc[user, item]\n",
    "        rb_bar = user_item_matrix.loc[user].mean()\n",
    "        weighted_sum += similarity * (rb - rb_bar)\n",
    "        sum_of_similarities += abs(similarity)\n",
    "\n",
    "    ra_bar = user_item_matrix.loc[target_user].mean()\n",
    "    predicted_rating = ra_bar + (weighted_sum / sum_of_similarities) if sum_of_similarities != 0 else ra_bar\n",
    "\n",
    "    return predicted_rating\n",
    "\n",
    "# Predict certain movie rating of certain user\n",
    "target_user = 88\n",
    "target_movie = 88\n",
    "predicted_rating = predict_rating(target_user, target_movie)\n",
    "print(f\"Predicted rating for user {target_user} on movie {target_movie}: {predicted_rating}\")"
   ]
  },
  {
   "cell_type": "code",
   "execution_count": 37,
   "id": "eec29471",
   "metadata": {},
   "outputs": [
    {
     "ename": "NameError",
     "evalue": "name 'get_top_similar_users' is not defined",
     "output_type": "error",
     "traceback": [
      "\u001b[0;31m---------------------------------------------------------------------------\u001b[0m",
      "\u001b[0;31mNameError\u001b[0m                                 Traceback (most recent call last)",
      "Cell \u001b[0;32mIn[37], line 16\u001b[0m\n\u001b[1;32m     14\u001b[0m             \u001b[38;5;28;01mbreak\u001b[39;00m\n\u001b[1;32m     15\u001b[0m     \u001b[38;5;28;01mreturn\u001b[39;00m recommended_movies\n\u001b[0;32m---> 16\u001b[0m \u001b[38;5;28mprint\u001b[39m(user_based_recommendations(\u001b[38;5;241m88\u001b[39m,\u001b[38;5;241m2\u001b[39m))\n",
      "Cell \u001b[0;32mIn[37], line 3\u001b[0m, in \u001b[0;36muser_based_recommendations\u001b[0;34m(target_user, n)\u001b[0m\n\u001b[1;32m      2\u001b[0m \u001b[38;5;28;01mdef\u001b[39;00m \u001b[38;5;21muser_based_recommendations\u001b[39m(target_user, n\u001b[38;5;241m=\u001b[39m\u001b[38;5;241m5\u001b[39m):\n\u001b[0;32m----> 3\u001b[0m     top_users \u001b[38;5;241m=\u001b[39m get_top_similar_users(target_user)\n\u001b[1;32m      4\u001b[0m     \u001b[38;5;28mprint\u001b[39m(top_users)\n\u001b[1;32m      5\u001b[0m     target_user_movies \u001b[38;5;241m=\u001b[39m user_item_matrix\u001b[38;5;241m.\u001b[39mloc[target_user]\u001b[38;5;241m.\u001b[39mindex\n",
      "\u001b[0;31mNameError\u001b[0m: name 'get_top_similar_users' is not defined"
     ]
    }
   ],
   "source": [
    "# Define a function to make recommendations for a user\n",
    "def user_based_recommendations(target_user, n=5):\n",
    "    top_users = get_top_similar_users(target_user)\n",
    "    print(top_users)\n",
    "    target_user_movies = user_item_matrix.loc[target_user].index\n",
    "    print(target_user_movies)\n",
    "    recommended_movies = set()\n",
    "    for user, similarity in top_users:\n",
    "        similar_user_movies = user_item_matrix.loc[user].index\n",
    "        new_movies = set(similar_user_movies) - set(target_user_movies)\n",
    "        print(new_movies)\n",
    "        recommended_movies.update(new_movies)\n",
    "        if len(recommended_movies) >= n:\n",
    "            break\n",
    "    return recommended_movies\n",
    "print(user_based_recommendations(88,2))"
   ]
  },
  {
   "cell_type": "code",
   "execution_count": 33,
   "id": "ad3c0f27",
   "metadata": {},
   "outputs": [],
   "source": [
    "def user_based_recommendations(user_id, user_item_matrix, user_similarity, n=5):\n",
    "    # Get the similarity scores for the target user\n",
    "    user_scores = user_similarity[user_id - 1]\n",
    "    \n",
    "    \n",
    "    # Initialize a list to store recommended anime\n",
    "    recommended_anime = []\n",
    "    \n",
    "    for user, score in similar_users[1:]:  # Exclude the target user\n",
    "        # Get the anime the similar user has rated positively\n",
    "        rated_anime = user_item_matrix.loc[user_item_matrix.index[user - 1]]\n",
    "        positively_rated_anime = rated_anime[rated_anime >= 6].index\n",
    "        \n",
    "        # Exclude anime the target user has already rated\n",
    "        target_user_rated_anime = user_item_matrix.loc[user_id].dropna().index\n",
    "        recommended_anime.extend(set(positively_rated_anime) - set(target_user_rated_anime))\n",
    "        \n",
    "        # Limit the number of recommendations\n",
    "        if len(recommended_anime) >= n:\n",
    "            break\n",
    "    \n",
    "    return recommended_anime[:n]\n",
    "\n"
   ]
  },
  {
   "cell_type": "code",
   "execution_count": 40,
   "id": "7909dac5",
   "metadata": {},
   "outputs": [
    {
     "name": "stdout",
     "output_type": "stream",
     "text": [
      "[(266, 0.34498334625399185), (313, 0.33387548288146385), (368, 0.3240414067556353), (57, 0.32394753336932625), (39, 0.3201204083712928)]\n",
      "Index([     1,      2,      3,      4,      5,      6,      7,      8,      9,\n",
      "           10,\n",
      "       ...\n",
      "       193565, 193567, 193571, 193573, 193579, 193581, 193583, 193585, 193587,\n",
      "       193609],\n",
      "      dtype='int64', name='movieId', length=9724)\n",
      "set()\n"
     ]
    },
    {
     "ename": "AttributeError",
     "evalue": "'list' object has no attribute 'update'",
     "output_type": "error",
     "traceback": [
      "\u001b[0;31m---------------------------------------------------------------------------\u001b[0m",
      "\u001b[0;31mAttributeError\u001b[0m                            Traceback (most recent call last)",
      "Cell \u001b[0;32mIn[40], line 16\u001b[0m\n\u001b[1;32m     14\u001b[0m             \u001b[38;5;28;01mbreak\u001b[39;00m\n\u001b[1;32m     15\u001b[0m     \u001b[38;5;28;01mreturn\u001b[39;00m recommended_movies\n\u001b[0;32m---> 16\u001b[0m \u001b[38;5;28mprint\u001b[39m(user_based_recommendations(\u001b[38;5;241m1\u001b[39m,\u001b[38;5;241m5\u001b[39m))\n",
      "Cell \u001b[0;32mIn[40], line 12\u001b[0m, in \u001b[0;36muser_based_recommendations\u001b[0;34m(target_user, n)\u001b[0m\n\u001b[1;32m     10\u001b[0m new_movies \u001b[38;5;241m=\u001b[39m \u001b[38;5;28mset\u001b[39m(similar_user_movies) \u001b[38;5;241m-\u001b[39m \u001b[38;5;28mset\u001b[39m(target_user_movies)\n\u001b[1;32m     11\u001b[0m \u001b[38;5;28mprint\u001b[39m(new_movies)\n\u001b[0;32m---> 12\u001b[0m recommended_movies\u001b[38;5;241m.\u001b[39mupdate(new_movies)\n\u001b[1;32m     13\u001b[0m \u001b[38;5;28;01mif\u001b[39;00m \u001b[38;5;28mlen\u001b[39m(recommended_movies) \u001b[38;5;241m>\u001b[39m\u001b[38;5;241m=\u001b[39m n:\n\u001b[1;32m     14\u001b[0m     \u001b[38;5;28;01mbreak\u001b[39;00m\n",
      "\u001b[0;31mAttributeError\u001b[0m: 'list' object has no attribute 'update'"
     ]
    }
   ],
   "source": [
    "# Define a function to make recommendations for a user\n",
    "def user_based_recommendations(target_user, n=5):\n",
    "    top_users = get_top_similar_users(target_user)\n",
    "    print(top_users)\n",
    "    target_user_movies = user_item_matrix.loc[target_user].index\n",
    "    print(target_user_movies)\n",
    "    recommended_movies = set()\n",
    "    for user, similarity in top_users:\n",
    "        similar_user_movies = user_item_matrix.loc[user].index\n",
    "        new_movies = set(similar_user_movies) - set(target_user_movies)\n",
    "        print(new_movies)\n",
    "        recommended_movies.update(new_movies)\n",
    "        if len(recommended_movies) >= n:\n",
    "            break\n",
    "    return recommended_movies\n",
    "print(user_based_recommendations(1,5))"
   ]
  },
  {
   "cell_type": "code",
   "execution_count": 38,
   "id": "253e5515",
   "metadata": {},
   "outputs": [
    {
     "ename": "IndexError",
     "evalue": "invalid index to scalar variable.",
     "output_type": "error",
     "traceback": [
      "\u001b[0;31m---------------------------------------------------------------------------\u001b[0m",
      "\u001b[0;31mIndexError\u001b[0m                                Traceback (most recent call last)",
      "Cell \u001b[0;32mIn[38], line 3\u001b[0m\n\u001b[1;32m      1\u001b[0m user_id \u001b[38;5;241m=\u001b[39m \u001b[38;5;241m9\u001b[39m\n\u001b[1;32m      2\u001b[0m n\u001b[38;5;241m=\u001b[39m\u001b[38;5;241m5\u001b[39m\n\u001b[0;32m----> 3\u001b[0m user_recommendations \u001b[38;5;241m=\u001b[39m user_based_recommendations(user_id, user_item_matrix, user_similarity, n) \n\u001b[1;32m      4\u001b[0m \u001b[38;5;28mprint\u001b[39m(\u001b[38;5;124mf\u001b[39m\u001b[38;5;124m\"\u001b[39m\u001b[38;5;124mUser-Based Recommendations for User \u001b[39m\u001b[38;5;132;01m{\u001b[39;00muser_id\u001b[38;5;132;01m}\u001b[39;00m\u001b[38;5;124m:\u001b[39m\u001b[38;5;124m\"\u001b[39m)\n\u001b[1;32m      5\u001b[0m \u001b[38;5;28;01mfor\u001b[39;00m movie_id \u001b[38;5;129;01min\u001b[39;00m user_recommendations:\n",
      "Cell \u001b[0;32mIn[33], line 3\u001b[0m, in \u001b[0;36muser_based_recommendations\u001b[0;34m(user_id, user_item_matrix, user_similarity, n)\u001b[0m\n\u001b[1;32m      1\u001b[0m \u001b[38;5;28;01mdef\u001b[39;00m \u001b[38;5;21muser_based_recommendations\u001b[39m(user_id, user_item_matrix, user_similarity, n\u001b[38;5;241m=\u001b[39m\u001b[38;5;241m5\u001b[39m):\n\u001b[1;32m      2\u001b[0m     \u001b[38;5;66;03m# Get the similarity scores for the target user\u001b[39;00m\n\u001b[0;32m----> 3\u001b[0m     user_scores \u001b[38;5;241m=\u001b[39m user_similarity[user_id \u001b[38;5;241m-\u001b[39m \u001b[38;5;241m1\u001b[39m]\n\u001b[1;32m      6\u001b[0m     \u001b[38;5;66;03m# Initialize a list to store recommended anime\u001b[39;00m\n\u001b[1;32m      7\u001b[0m     recommended_anime \u001b[38;5;241m=\u001b[39m []\n",
      "\u001b[0;31mIndexError\u001b[0m: invalid index to scalar variable."
     ]
    }
   ],
   "source": [
    "user_id = 9\n",
    "n=5\n",
    "user_recommendations = user_based_recommendations(user_id, user_item_matrix, user_similarity, n) \n",
    "print(f\"User-Based Recommendations for User {user_id}:\")\n",
    "for movie_id in user_recommendations:\n",
    "    anime_name = ratings.loc[anime_df['movie_id'] == movie_id, 'name'].values[0]\n",
    "    print(f\"- {anime_name}\")"
   ]
  },
  {
   "cell_type": "code",
   "execution_count": 6,
   "id": "fd1c0699",
   "metadata": {},
   "outputs": [
    {
     "name": "stdout",
     "output_type": "stream",
     "text": [
      "Predicted rating for user 4 on movie 88: 0.09655699132940904\n"
     ]
    }
   ],
   "source": [
    "import pandas as pd\n",
    "\n",
    "# Load the ratings dataset\n",
    "ratings = pd.read_csv('ratings.csv')\n",
    "\n",
    "# Create a user-item matrix\n",
    "user_item_matrix = ratings.pivot(index='userId', columns='movieId', values='rating').fillna(0)\n",
    "\n",
    "# Define a function to calculate Pearson correlation between two users\n",
    "def pearson_correlation(user1, user2):\n",
    "    common_movies = user_item_matrix.loc[user1].index.intersection(user_item_matrix.loc[user2].index)\n",
    "    if len(common_movies) < 2:\n",
    "        return 0\n",
    "    user1_ratings = user_item_matrix.loc[user1][common_movies]\n",
    "    user2_ratings = user_item_matrix.loc[user2][common_movies]\n",
    "    correlation, _ = pearsonr(user1_ratings, user2_ratings)\n",
    "    return correlation\n",
    "\n",
    "# Define a function to get similar users for a given user\n",
    "def get_similar_users(target_user):\n",
    "    similarities = {}\n",
    "    for user in user_item_matrix.index:\n",
    "        if user != target_user:\n",
    "            similarity = pearson_correlation(target_user, user)\n",
    "            similarities[user] = similarity\n",
    "    return similarities\n",
    "\n",
    "# Define a function to make predictions using the provided formula\n",
    "def predict_rating(target_user, item):\n",
    "    target_user_movies = user_item_matrix.loc[target_user].index\n",
    "    common_users = user_item_matrix.loc[:, item].dropna().index\n",
    "    similarities = {user: pearson_correlation(target_user, user) for user in common_users}\n",
    "    weighted_sum = 0\n",
    "    sum_of_similarities = 0\n",
    "\n",
    "    for user, similarity in similarities.items():\n",
    "        rb = user_item_matrix.loc[user, item]\n",
    "        rb_bar = user_item_matrix.loc[user].mean()\n",
    "        weighted_sum += similarity * (rb - rb_bar)\n",
    "        sum_of_similarities += abs(similarity)\n",
    "\n",
    "    ra_bar = user_item_matrix.loc[target_user].mean()\n",
    "    predicted_rating = ra_bar + (weighted_sum / sum_of_similarities) if sum_of_similarities != 0 else ra_bar\n",
    "\n",
    "    return predicted_rating\n",
    "\n",
    "# Example: Predict rating for user 1 on movie 1\n",
    "target_user = 4\n",
    "target_movie = 88\n",
    "predicted_rating = predict_rating(target_user, target_movie)\n",
    "print(f\"Predicted rating for user {target_user} on movie {target_movie}: {predicted_rating}\")\n"
   ]
  },
  {
   "cell_type": "code",
   "execution_count": 50,
   "id": "5748064e",
   "metadata": {},
   "outputs": [
    {
     "name": "stdout",
     "output_type": "stream",
     "text": [
      "10 most similar users to user 1:\n",
      "User 266 - Similarity: 0.34498334625399185\n",
      "User 313 - Similarity: 0.33387548288146385\n",
      "User 368 - Similarity: 0.3240414067556353\n",
      "User 57 - Similarity: 0.32394753336932625\n",
      "User 39 - Similarity: 0.3201204083712928\n",
      "User 452 - Similarity: 0.31315004538758084\n",
      "User 91 - Similarity: 0.3113459316284405\n",
      "User 469 - Similarity: 0.30908917794063595\n",
      "User 45 - Similarity: 0.3075681925502507\n",
      "User 135 - Similarity: 0.306842101856095\n",
      "\n",
      "10 most relevant movies for user 1:\n"
     ]
    }
   ],
   "source": [
    "import pandas as pd\n",
    "from scipy.stats import pearsonr\n",
    "\n",
    "# Load the ratings dataset\n",
    "ratings = pd.read_csv('ratings.csv')\n",
    "\n",
    "# Create a user-item matrix\n",
    "user_item_matrix = ratings.pivot(index='userId', columns='movieId', values='rating').fillna(0)\n",
    "\n",
    "# Define a function to calculate Pearson correlation between two users\n",
    "def pearson_correlation(user1, user2):\n",
    "    common_movies = user_item_matrix.loc[user1].index.intersection(user_item_matrix.loc[user2].index)\n",
    "    if len(common_movies) < 2:\n",
    "        return 0\n",
    "    user1_ratings = user_item_matrix.loc[user1][common_movies]\n",
    "    user2_ratings = user_item_matrix.loc[user2][common_movies]\n",
    "    correlation, _ = pearsonr(user1_ratings, user2_ratings)\n",
    "    return correlation\n",
    "\n",
    "# Define a function to get similar users for a given user\n",
    "def get_similar_users(target_user):\n",
    "    similarities = {}\n",
    "    for user in user_item_matrix.index:\n",
    "        if user != target_user:\n",
    "            similarity = pearson_correlation(target_user, user)\n",
    "            similarities[user] = similarity\n",
    "    return similarities\n",
    "\n",
    "# Define a function to get top N similar users for a given user\n",
    "def get_top_similar_users(target_user, n=10):\n",
    "    similarities = get_similar_users(target_user)\n",
    "    top_users = sorted(similarities.items(), key=lambda x: x[1], reverse=True)[:n]\n",
    "    return top_users\n",
    "\n",
    "# Define a function to make recommendations for a user\n",
    "def user_based_recommendations(target_user, n=10):\n",
    "    top_users = get_top_similar_users(target_user)\n",
    "    target_user_movies = user_item_matrix.loc[target_user].index\n",
    "    recommended_movies = set()\n",
    "    for user, similarity in top_users:\n",
    "        similar_user_movies = user_item_matrix.loc[user].index\n",
    "        new_movies = set(similar_user_movies) - set(target_user_movies)\n",
    "        recommended_movies.update(new_movies)\n",
    "        if len(recommended_movies) >= n:\n",
    "            break\n",
    "    return recommended_movies\n",
    "\n",
    "# Select a user\n",
    "#Test the top similar users and top recommendation\n",
    "target_user = 1\n",
    "\n",
    "# Get the 10 most similar users\n",
    "similar_users = get_top_similar_users(target_user, n=10)\n",
    "print(f\"10 most similar users to user {target_user}:\")\n",
    "for user, similarity in similar_users:\n",
    "    print(f\"User {user} - Similarity: {similarity}\")\n",
    "\n",
    "# Get the 10 most relevant movies that the recommender suggests\n",
    "recommended_movies = user_based_recommendations(target_user, n=10)\n",
    "print(f\"\\n10 most relevant movies for user {target_user}:\")\n",
    "for movie_id in recommended_movies:\n",
    "    movie_title = ratings[ratings['movieId'] == movie_id]['title'].values[0]\n",
    "    print(f\"Movie ID: {movie_id} - Title: {movie_title}\")\n"
   ]
  },
  {
   "cell_type": "code",
   "execution_count": 65,
   "id": "c1d782ce",
   "metadata": {},
   "outputs": [
    {
     "name": "stdout",
     "output_type": "stream",
     "text": [
      "0.07818732282993371\n"
     ]
    }
   ],
   "source": [
    "import numpy as np\n",
    "\n",
    "def cosine_similarity(user1, user2):\n",
    "    common_movies = user_item_matrix.loc[user1].index.intersection(user_item_matrix.loc[user2].index)\n",
    "    if len(common_movies) == 0:\n",
    "        return 0\n",
    "    user1_ratings = user_item_matrix.loc[user1][common_movies]\n",
    "    user2_ratings = user_item_matrix.loc[user2][common_movies]\n",
    "    similarity = np.dot(user1_ratings, user2_ratings) / (np.linalg.norm(user1_ratings) * np.linalg.norm(user2_ratings))\n",
    "    return similarity\n",
    "\n",
    "print(cosine_similarity(3,313))\n"
   ]
  },
  {
   "cell_type": "code",
   "execution_count": 64,
   "id": "a5326e94",
   "metadata": {},
   "outputs": [
    {
     "name": "stdout",
     "output_type": "stream",
     "text": [
      "The similarity between User 2 and User 3 is: 0.0215633423180593\n"
     ]
    }
   ],
   "source": [
    "def content_overlap_similarity(user1_ratings, user2_ratings):\n",
    "    items_user1 = set(user1_ratings)\n",
    "    items_user2 = set(user2_ratings)\n",
    "    \n",
    "    common_items = len(items_user1.intersection(items_user2))\n",
    "    union_items = len(items_user1.union(items_user2))\n",
    "    similarity = common_items / union_items\n",
    "    return similarity\n",
    "\n",
    "# Assuming user_ratings is a dictionary where keys are user IDs and values are sets of movie IDs they have rated\n",
    "\n",
    "user1_ratings = user_ratings[3]\n",
    "user2_ratings = user_ratings[313]\n",
    "\n",
    "similarity = content_overlap_similarity(user1_ratings, user2_ratings)\n",
    "\n",
    "print(f\"The similarity between User 2 and User 3 is: {similarity}\")\n"
   ]
  },
  {
   "cell_type": "code",
   "execution_count": 70,
   "id": "721537c4",
   "metadata": {},
   "outputs": [],
   "source": [
    "def predict_recommended_movies_ratings(self, target_user, user_item_matrix, similar_users, n_recommendations):\n",
    "        target_ratings = user_item_matrix.loc[target_user]\n",
    "        recommended_movies = np.empty((0, 2), dtype=float)\n",
    "        similarity_sum_denominator = sum([s for user, s in similar_users])\n",
    "        mean_target_ratings = np.mean(target_ratings)\n",
    "\n",
    "        for movie in user_item_matrix.columns:\n",
    "            if (user_item_matrix.loc[target_user][movie] == 0):\n",
    "                numerator_sum = 0\n",
    "                for user, similarity in similar_users:\n",
    "                    user_ratings = user_item_matrix.loc[user]\n",
    "                    if (user_ratings[movie] > 0):\n",
    "                        #mean_user_ratings = np.mean(user_ratings)\n",
    "                        numerator_sum += similarity * (user_ratings[movie] - np.mean(user_ratings))\n",
    "\n",
    "                # Check whether numerator is greater than zero only then add the prediction value\n",
    "                if numerator_sum > 0:\n",
    "                    predicted_rating = mean_target_ratings + numerator_sum / similarity_sum_denominator\n",
    "                    a = np.array([[movie, predicted_rating]])\n",
    "                    recommended_movies = np.append(recommended_movies, a, axis=0)\n",
    "        sorted_indices = np.argsort(recommended_movies[:, 1])[::-1]\n",
    "        top_n_movies = recommended_movies[sorted_indices][:n_recommendations]\n",
    "        # print(top_n_movies)\n",
    "        return top_n_movies"
   ]
  },
  {
   "cell_type": "code",
   "execution_count": 73,
   "id": "5e20f3e9",
   "metadata": {},
   "outputs": [
    {
     "ename": "TypeError",
     "evalue": "predict_recommended_movies_ratings() missing 1 required positional argument: 'n_recommendations'",
     "output_type": "error",
     "traceback": [
      "\u001b[0;31m---------------------------------------------------------------------------\u001b[0m",
      "\u001b[0;31mTypeError\u001b[0m                                 Traceback (most recent call last)",
      "Cell \u001b[0;32mIn[73], line 8\u001b[0m\n\u001b[1;32m      5\u001b[0m n_recommendations \u001b[38;5;241m=\u001b[39m \u001b[38;5;241m10\u001b[39m\n\u001b[1;32m      7\u001b[0m \u001b[38;5;66;03m# Call the method and print the result\u001b[39;00m\n\u001b[0;32m----> 8\u001b[0m recommended_movies \u001b[38;5;241m=\u001b[39m predict_recommended_movies_ratings(target_user, user_item_matrix, similar_users, n_recommendations)\n\u001b[1;32m     10\u001b[0m \u001b[38;5;28mprint\u001b[39m(\u001b[38;5;124m\"\u001b[39m\u001b[38;5;124mTop recommended movies:\u001b[39m\u001b[38;5;124m\"\u001b[39m)\n\u001b[1;32m     11\u001b[0m \u001b[38;5;28;01mfor\u001b[39;00m movie_id, predicted_rating \u001b[38;5;129;01min\u001b[39;00m recommended_movies:\n",
      "\u001b[0;31mTypeError\u001b[0m: predict_recommended_movies_ratings() missing 1 required positional argument: 'n_recommendations'"
     ]
    }
   ],
   "source": [
    "# Define necessary variables\n",
    "target_user = 6\n",
    "user_item_matrix = ...  # Your user-item matrix\n",
    "similar_users = [(1, 0.8), (2, 0.6), (3, 0.7)]\n",
    "n_recommendations = 10\n",
    "\n",
    "# Call the method and print the result\n",
    "recommended_movies = predict_recommended_movies_ratings(target_user, user_item_matrix, similar_users, n_recommendations)\n",
    "\n",
    "print(\"Top recommended movies:\")\n",
    "for movie_id, predicted_rating in recommended_movies:\n",
    "    print(f\"Movie ID: {movie_id} - Predicted Rating: {predicted_rating}\")"
   ]
  },
  {
   "cell_type": "code",
   "execution_count": 82,
   "id": "007a073d",
   "metadata": {},
   "outputs": [
    {
     "ename": "KeyError",
     "evalue": "66",
     "output_type": "error",
     "traceback": [
      "\u001b[0;31m---------------------------------------------------------------------------\u001b[0m",
      "\u001b[0;31mKeyError\u001b[0m                                  Traceback (most recent call last)",
      "File \u001b[0;32m~/anaconda3/envs/RecommenderSystems/lib/python3.11/site-packages/pandas/core/indexes/base.py:3790\u001b[0m, in \u001b[0;36mIndex.get_loc\u001b[0;34m(self, key)\u001b[0m\n\u001b[1;32m   3789\u001b[0m \u001b[38;5;28;01mtry\u001b[39;00m:\n\u001b[0;32m-> 3790\u001b[0m     \u001b[38;5;28;01mreturn\u001b[39;00m \u001b[38;5;28mself\u001b[39m\u001b[38;5;241m.\u001b[39m_engine\u001b[38;5;241m.\u001b[39mget_loc(casted_key)\n\u001b[1;32m   3791\u001b[0m \u001b[38;5;28;01mexcept\u001b[39;00m \u001b[38;5;167;01mKeyError\u001b[39;00m \u001b[38;5;28;01mas\u001b[39;00m err:\n",
      "File \u001b[0;32mindex.pyx:152\u001b[0m, in \u001b[0;36mpandas._libs.index.IndexEngine.get_loc\u001b[0;34m()\u001b[0m\n",
      "File \u001b[0;32mindex.pyx:181\u001b[0m, in \u001b[0;36mpandas._libs.index.IndexEngine.get_loc\u001b[0;34m()\u001b[0m\n",
      "File \u001b[0;32mpandas/_libs/hashtable_class_helper.pxi:2606\u001b[0m, in \u001b[0;36mpandas._libs.hashtable.Int64HashTable.get_item\u001b[0;34m()\u001b[0m\n",
      "File \u001b[0;32mpandas/_libs/hashtable_class_helper.pxi:2630\u001b[0m, in \u001b[0;36mpandas._libs.hashtable.Int64HashTable.get_item\u001b[0;34m()\u001b[0m\n",
      "\u001b[0;31mKeyError\u001b[0m: 66",
      "\nThe above exception was the direct cause of the following exception:\n",
      "\u001b[0;31mKeyError\u001b[0m                                  Traceback (most recent call last)",
      "Cell \u001b[0;32mIn[82], line 10\u001b[0m\n\u001b[1;32m      7\u001b[0m \u001b[38;5;28mself\u001b[39m \u001b[38;5;241m=\u001b[39m \u001b[38;5;241m3\u001b[39m\n\u001b[1;32m      9\u001b[0m \u001b[38;5;66;03m# Call the method and print the result\u001b[39;00m\n\u001b[0;32m---> 10\u001b[0m recommended_movies \u001b[38;5;241m=\u001b[39m predict_recommended_movies_ratings(\u001b[38;5;28mself\u001b[39m, target_user, user_item_matrix, similar_users, n_recommendations)\n\u001b[1;32m     12\u001b[0m \u001b[38;5;28mprint\u001b[39m(\u001b[38;5;124m\"\u001b[39m\u001b[38;5;124mTop recommended movies:\u001b[39m\u001b[38;5;124m\"\u001b[39m)\n\u001b[1;32m     13\u001b[0m \u001b[38;5;28;01mfor\u001b[39;00m movie_id, predicted_rating \u001b[38;5;129;01min\u001b[39;00m recommended_movies:\n",
      "Cell \u001b[0;32mIn[70], line 2\u001b[0m, in \u001b[0;36mpredict_recommended_movies_ratings\u001b[0;34m(self, target_user, user_item_matrix, similar_users, n_recommendations)\u001b[0m\n\u001b[1;32m      1\u001b[0m \u001b[38;5;28;01mdef\u001b[39;00m \u001b[38;5;21mpredict_recommended_movies_ratings\u001b[39m(\u001b[38;5;28mself\u001b[39m, target_user, user_item_matrix, similar_users, n_recommendations):\n\u001b[0;32m----> 2\u001b[0m         target_ratings \u001b[38;5;241m=\u001b[39m user_item_matrix\u001b[38;5;241m.\u001b[39mloc[target_user]\n\u001b[1;32m      3\u001b[0m         recommended_movies \u001b[38;5;241m=\u001b[39m np\u001b[38;5;241m.\u001b[39mempty((\u001b[38;5;241m0\u001b[39m, \u001b[38;5;241m2\u001b[39m), dtype\u001b[38;5;241m=\u001b[39m\u001b[38;5;28mfloat\u001b[39m)\n\u001b[1;32m      4\u001b[0m         similarity_sum_denominator \u001b[38;5;241m=\u001b[39m \u001b[38;5;28msum\u001b[39m([s \u001b[38;5;28;01mfor\u001b[39;00m user, s \u001b[38;5;129;01min\u001b[39;00m similar_users])\n",
      "File \u001b[0;32m~/anaconda3/envs/RecommenderSystems/lib/python3.11/site-packages/pandas/core/indexing.py:1153\u001b[0m, in \u001b[0;36m_LocationIndexer.__getitem__\u001b[0;34m(self, key)\u001b[0m\n\u001b[1;32m   1150\u001b[0m axis \u001b[38;5;241m=\u001b[39m \u001b[38;5;28mself\u001b[39m\u001b[38;5;241m.\u001b[39maxis \u001b[38;5;129;01mor\u001b[39;00m \u001b[38;5;241m0\u001b[39m\n\u001b[1;32m   1152\u001b[0m maybe_callable \u001b[38;5;241m=\u001b[39m com\u001b[38;5;241m.\u001b[39mapply_if_callable(key, \u001b[38;5;28mself\u001b[39m\u001b[38;5;241m.\u001b[39mobj)\n\u001b[0;32m-> 1153\u001b[0m \u001b[38;5;28;01mreturn\u001b[39;00m \u001b[38;5;28mself\u001b[39m\u001b[38;5;241m.\u001b[39m_getitem_axis(maybe_callable, axis\u001b[38;5;241m=\u001b[39maxis)\n",
      "File \u001b[0;32m~/anaconda3/envs/RecommenderSystems/lib/python3.11/site-packages/pandas/core/indexing.py:1393\u001b[0m, in \u001b[0;36m_LocIndexer._getitem_axis\u001b[0;34m(self, key, axis)\u001b[0m\n\u001b[1;32m   1391\u001b[0m \u001b[38;5;66;03m# fall thru to straight lookup\u001b[39;00m\n\u001b[1;32m   1392\u001b[0m \u001b[38;5;28mself\u001b[39m\u001b[38;5;241m.\u001b[39m_validate_key(key, axis)\n\u001b[0;32m-> 1393\u001b[0m \u001b[38;5;28;01mreturn\u001b[39;00m \u001b[38;5;28mself\u001b[39m\u001b[38;5;241m.\u001b[39m_get_label(key, axis\u001b[38;5;241m=\u001b[39maxis)\n",
      "File \u001b[0;32m~/anaconda3/envs/RecommenderSystems/lib/python3.11/site-packages/pandas/core/indexing.py:1343\u001b[0m, in \u001b[0;36m_LocIndexer._get_label\u001b[0;34m(self, label, axis)\u001b[0m\n\u001b[1;32m   1341\u001b[0m \u001b[38;5;28;01mdef\u001b[39;00m \u001b[38;5;21m_get_label\u001b[39m(\u001b[38;5;28mself\u001b[39m, label, axis: AxisInt):\n\u001b[1;32m   1342\u001b[0m     \u001b[38;5;66;03m# GH#5567 this will fail if the label is not present in the axis.\u001b[39;00m\n\u001b[0;32m-> 1343\u001b[0m     \u001b[38;5;28;01mreturn\u001b[39;00m \u001b[38;5;28mself\u001b[39m\u001b[38;5;241m.\u001b[39mobj\u001b[38;5;241m.\u001b[39mxs(label, axis\u001b[38;5;241m=\u001b[39maxis)\n",
      "File \u001b[0;32m~/anaconda3/envs/RecommenderSystems/lib/python3.11/site-packages/pandas/core/generic.py:4236\u001b[0m, in \u001b[0;36mNDFrame.xs\u001b[0;34m(self, key, axis, level, drop_level)\u001b[0m\n\u001b[1;32m   4234\u001b[0m             new_index \u001b[38;5;241m=\u001b[39m index[loc]\n\u001b[1;32m   4235\u001b[0m \u001b[38;5;28;01melse\u001b[39;00m:\n\u001b[0;32m-> 4236\u001b[0m     loc \u001b[38;5;241m=\u001b[39m index\u001b[38;5;241m.\u001b[39mget_loc(key)\n\u001b[1;32m   4238\u001b[0m     \u001b[38;5;28;01mif\u001b[39;00m \u001b[38;5;28misinstance\u001b[39m(loc, np\u001b[38;5;241m.\u001b[39mndarray):\n\u001b[1;32m   4239\u001b[0m         \u001b[38;5;28;01mif\u001b[39;00m loc\u001b[38;5;241m.\u001b[39mdtype \u001b[38;5;241m==\u001b[39m np\u001b[38;5;241m.\u001b[39mbool_:\n",
      "File \u001b[0;32m~/anaconda3/envs/RecommenderSystems/lib/python3.11/site-packages/pandas/core/indexes/base.py:3797\u001b[0m, in \u001b[0;36mIndex.get_loc\u001b[0;34m(self, key)\u001b[0m\n\u001b[1;32m   3792\u001b[0m     \u001b[38;5;28;01mif\u001b[39;00m \u001b[38;5;28misinstance\u001b[39m(casted_key, \u001b[38;5;28mslice\u001b[39m) \u001b[38;5;129;01mor\u001b[39;00m (\n\u001b[1;32m   3793\u001b[0m         \u001b[38;5;28misinstance\u001b[39m(casted_key, abc\u001b[38;5;241m.\u001b[39mIterable)\n\u001b[1;32m   3794\u001b[0m         \u001b[38;5;129;01mand\u001b[39;00m \u001b[38;5;28many\u001b[39m(\u001b[38;5;28misinstance\u001b[39m(x, \u001b[38;5;28mslice\u001b[39m) \u001b[38;5;28;01mfor\u001b[39;00m x \u001b[38;5;129;01min\u001b[39;00m casted_key)\n\u001b[1;32m   3795\u001b[0m     ):\n\u001b[1;32m   3796\u001b[0m         \u001b[38;5;28;01mraise\u001b[39;00m InvalidIndexError(key)\n\u001b[0;32m-> 3797\u001b[0m     \u001b[38;5;28;01mraise\u001b[39;00m \u001b[38;5;167;01mKeyError\u001b[39;00m(key) \u001b[38;5;28;01mfrom\u001b[39;00m \u001b[38;5;21;01merr\u001b[39;00m\n\u001b[1;32m   3798\u001b[0m \u001b[38;5;28;01mexcept\u001b[39;00m \u001b[38;5;167;01mTypeError\u001b[39;00m:\n\u001b[1;32m   3799\u001b[0m     \u001b[38;5;66;03m# If we have a listlike key, _check_indexing_error will raise\u001b[39;00m\n\u001b[1;32m   3800\u001b[0m     \u001b[38;5;66;03m#  InvalidIndexError. Otherwise we fall through and re-raise\u001b[39;00m\n\u001b[1;32m   3801\u001b[0m     \u001b[38;5;66;03m#  the TypeError.\u001b[39;00m\n\u001b[1;32m   3802\u001b[0m     \u001b[38;5;28mself\u001b[39m\u001b[38;5;241m.\u001b[39m_check_indexing_error(key)\n",
      "\u001b[0;31mKeyError\u001b[0m: 66"
     ]
    }
   ],
   "source": [
    "\n",
    "\n",
    "# Define similar users (example data)\n",
    "similar_users = [(2, 0.8), (3, 0.6), (4, 0.7)]\n",
    "\n",
    "# Define other variables\n",
    "target_user = 66\n",
    "n_recommendations = 10\n",
    "self = 3\n",
    "\n",
    "# Call the method and print the result\n",
    "recommended_movies = predict_recommended_movies_ratings(self, target_user, user_item_matrix, similar_users, n_recommendations)\n",
    "\n",
    "print(\"Top recommended movies:\")\n",
    "for movie_id, predicted_rating in recommended_movies:\n",
    "    print(f\"Movie ID: {movie_id} - Predicted Rating: {predicted_rating}\")\n"
   ]
  },
  {
   "cell_type": "code",
   "execution_count": null,
   "id": "d92a9487",
   "metadata": {},
   "outputs": [],
   "source": []
  }
 ],
 "metadata": {
  "kernelspec": {
   "display_name": "Python 3 (ipykernel)",
   "language": "python",
   "name": "python3"
  },
  "language_info": {
   "codemirror_mode": {
    "name": "ipython",
    "version": 3
   },
   "file_extension": ".py",
   "mimetype": "text/x-python",
   "name": "python",
   "nbconvert_exporter": "python",
   "pygments_lexer": "ipython3",
   "version": "3.11.5"
  }
 },
 "nbformat": 4,
 "nbformat_minor": 5
}
